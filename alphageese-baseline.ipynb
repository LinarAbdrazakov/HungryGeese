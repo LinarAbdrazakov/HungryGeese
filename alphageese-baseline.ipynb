{
 "cells": [
  {
   "cell_type": "markdown",
   "id": "da893789",
   "metadata": {
    "_cell_guid": "b1076dfc-b9ad-4769-8c92-a6c4dae69d19",
    "_uuid": "8f2839f25d086af736a60e9eeb907d3b93b6e0e5",
    "papermill": {
     "duration": 0.038364,
     "end_time": "2021-07-18T09:12:32.209720",
     "exception": false,
     "start_time": "2021-07-18T09:12:32.171356",
     "status": "completed"
    },
    "tags": []
   },
   "source": [
    "### Reference\n",
    "- [Smart Geese Trained by Reinforcement Learning](https://www.kaggle.com/yuricat/smart-geese-trained-by-reinforcement-learning)\n",
    "- [Alpha Zero General](https://github.com/suragnair/alpha-zero-general)"
   ]
  },
  {
   "cell_type": "code",
   "execution_count": 57,
   "id": "b9b5034c",
   "metadata": {
    "execution": {
     "iopub.execute_input": "2021-07-18T09:12:32.291934Z",
     "iopub.status.busy": "2021-07-18T09:12:32.291286Z",
     "iopub.status.idle": "2021-07-18T09:12:32.297015Z",
     "shell.execute_reply": "2021-07-18T09:12:32.296365Z",
     "shell.execute_reply.started": "2021-07-15T19:09:45.172438Z"
    },
    "papermill": {
     "duration": 0.050125,
     "end_time": "2021-07-18T09:12:32.297202",
     "exception": false,
     "start_time": "2021-07-18T09:12:32.247077",
     "status": "completed"
    },
    "tags": []
   },
   "outputs": [
    {
     "name": "stdout",
     "output_type": "stream",
     "text": [
      "Overwriting submission.py\n"
     ]
    }
   ],
   "source": [
    "%%writefile submission.py\n",
    "import pickle\n",
    "import bz2\n",
    "import base64\n",
    "import numpy as np\n",
    "import torch\n",
    "import torch.nn as nn\n",
    "import torch.nn.functional as F\n",
    "import math\n",
    "import time\n",
    "from copy import deepcopy\n",
    "from kaggle_environments.envs.hungry_geese.hungry_geese import Action, translate\n",
    "from kaggle_environments.helpers import histogram"
   ]
  },
  {
   "cell_type": "code",
   "execution_count": 58,
   "id": "d2691efc",
   "metadata": {
    "_kg_hide-input": true,
    "execution": {
     "iopub.execute_input": "2021-07-18T09:12:32.461265Z",
     "iopub.status.busy": "2021-07-18T09:12:32.401961Z",
     "iopub.status.idle": "2021-07-18T09:12:32.566638Z",
     "shell.execute_reply": "2021-07-18T09:12:32.565723Z",
     "shell.execute_reply.started": "2021-07-15T19:09:48.468983Z"
    },
    "papermill": {
     "duration": 0.231594,
     "end_time": "2021-07-18T09:12:32.566829",
     "exception": false,
     "start_time": "2021-07-18T09:12:32.335235",
     "status": "completed"
    },
    "tags": []
   },
   "outputs": [
    {
     "name": "stdout",
     "output_type": "stream",
     "text": [
      "Appending to submission.py\n"
     ]
    }
   ],
   "source": [
    "%%writefile -a submission.py\n",
    "# The model’s parameters from https://www.kaggle.com/yuricat/smart-geese-trained-by-reinforcement-learning\n",
    "PARAM = b'XXXXXXXXXX'"
   ]
  },
  {
   "cell_type": "code",
   "execution_count": 59,
   "id": "3e60bc5b",
   "metadata": {
    "execution": {
     "iopub.execute_input": "2021-07-18T09:12:32.646313Z",
     "iopub.status.busy": "2021-07-18T09:12:32.645605Z",
     "iopub.status.idle": "2021-07-18T09:12:32.651989Z",
     "shell.execute_reply": "2021-07-18T09:12:32.653046Z",
     "shell.execute_reply.started": "2021-07-15T19:09:49.946674Z"
    },
    "papermill": {
     "duration": 0.048028,
     "end_time": "2021-07-18T09:12:32.653319",
     "exception": false,
     "start_time": "2021-07-18T09:12:32.605291",
     "status": "completed"
    },
    "tags": []
   },
   "outputs": [
    {
     "name": "stdout",
     "output_type": "stream",
     "text": [
      "Appending to submission.py\n"
     ]
    }
   ],
   "source": [
    "%%writefile -a submission.py\n",
    "class MCTS():\n",
    "    def __init__(self, game, nn_agent, eps=1e-8, cpuct=1.0):\n",
    "        self.game = game\n",
    "        self.nn_agent = nn_agent\n",
    "        self.eps = eps\n",
    "        self.cpuct = cpuct\n",
    "        \n",
    "        self.Qsa = {}  # stores Q values for s,a (as defined in the paper)\n",
    "        self.Nsa = {}  # stores #times edge s,a was visited\n",
    "        self.Ns = {}  # stores #times board s was visited\n",
    "        self.Ps = {}  # stores initial policy (returned by neural net)\n",
    "\n",
    "        self.Vs = {}  # stores game.getValidMoves for board s\n",
    "        \n",
    "        self.last_obs = None\n",
    "\n",
    "    def getActionProb(self, obs, timelimit=2.0):\n",
    "        start_time = time.time()\n",
    "        while time.time() - start_time < timelimit:\n",
    "            self.search(obs, self.last_obs)\n",
    "\n",
    "        s = self.game.stringRepresentation(obs)\n",
    "        i = obs.index\n",
    "        counts = [\n",
    "            self.Nsa[(s, i, a)] if (s, i, a) in self.Nsa else 0\n",
    "            for a in range(self.game.getActionSize())\n",
    "        ]\n",
    "        prob = counts / np.sum(counts)\n",
    "        self.last_obs = obs\n",
    "        return prob\n",
    "\n",
    "    def search(self, obs, last_obs):\n",
    "        s = self.game.stringRepresentation(obs)\n",
    "\n",
    "        if s not in self.Ns:\n",
    "            values = [-10] * 4\n",
    "            for i in range(4):\n",
    "                if len(obs.geese[i]) == 0:\n",
    "                    continue\n",
    "                    \n",
    "                # leaf node\n",
    "                self.Ps[(s, i)], values[i] = self.nn_agent.predict(obs, last_obs, i)\n",
    "                    \n",
    "                valids = self.game.getValidMoves(obs, last_obs, i)    \n",
    "                self.Ps[(s, i)] = self.Ps[(s, i)] * valids  # masking invalid moves\n",
    "                sum_Ps_s = np.sum(self.Ps[(s, i)])\n",
    "                if sum_Ps_s > 0:\n",
    "                    self.Ps[(s, i)] /= sum_Ps_s  # renormalize\n",
    "\n",
    "                self.Vs[(s, i)] = valids\n",
    "                self.Ns[s] = 0\n",
    "            return values\n",
    "\n",
    "        best_acts = [None] * 4\n",
    "        for i in range(4):\n",
    "            if len(obs.geese[i]) == 0:\n",
    "                continue\n",
    "            \n",
    "            valids = self.Vs[(s, i)]\n",
    "            cur_best = -float('inf')\n",
    "            best_act = self.game.actions[-1]\n",
    "\n",
    "            # pick the action with the highest upper confidence bound\n",
    "            for a in range(self.game.getActionSize()):\n",
    "                if valids[a]:\n",
    "                    if (s, i, a) in self.Qsa:\n",
    "                        u = self.Qsa[(s, i, a)] + self.cpuct * self.Ps[(s, i)][a] * math.sqrt(\n",
    "                                self.Ns[s]) / (1 + self.Nsa[(s, i, a)])\n",
    "                    else:\n",
    "                        u = self.cpuct * self.Ps[(s, i)][a] * math.sqrt(\n",
    "                            self.Ns[s] + self.eps)  # Q = 0 ?\n",
    "\n",
    "                    if u > cur_best:\n",
    "                        cur_best = u\n",
    "                        best_act = self.game.actions[a]\n",
    "                        \n",
    "            best_acts[i] = best_act\n",
    "        \n",
    "        next_obs = self.game.getNextState(obs, last_obs, best_acts)\n",
    "        values = self.search(next_obs, obs)\n",
    "\n",
    "        for i in range(4):\n",
    "            if len(obs.geese[i]) == 0:\n",
    "                continue\n",
    "                \n",
    "            a = self.game.actions.index(best_acts[i])\n",
    "            v = values[i]\n",
    "            if (s, i, a) in self.Qsa:\n",
    "                self.Qsa[(s, i, a)] = (self.Nsa[(s, i, a)] * self.Qsa[\n",
    "                    (s, i, a)] + v) / (self.Nsa[(s, i, a)] + 1)\n",
    "                self.Nsa[(s, i, a)] += 1\n",
    "\n",
    "            else:\n",
    "                self.Qsa[(s, i, a)] = v\n",
    "                self.Nsa[(s, i, a)] = 1\n",
    "\n",
    "        self.Ns[s] += 1\n",
    "        return values"
   ]
  },
  {
   "cell_type": "code",
   "execution_count": 60,
   "id": "41b660ba",
   "metadata": {
    "execution": {
     "iopub.execute_input": "2021-07-18T09:12:32.737490Z",
     "iopub.status.busy": "2021-07-18T09:12:32.736674Z",
     "iopub.status.idle": "2021-07-18T09:12:32.742722Z",
     "shell.execute_reply": "2021-07-18T09:12:32.741323Z",
     "shell.execute_reply.started": "2021-07-15T19:09:50.583692Z"
    },
    "papermill": {
     "duration": 0.049833,
     "end_time": "2021-07-18T09:12:32.742922",
     "exception": false,
     "start_time": "2021-07-18T09:12:32.693089",
     "status": "completed"
    },
    "tags": []
   },
   "outputs": [
    {
     "name": "stdout",
     "output_type": "stream",
     "text": [
      "Appending to submission.py\n"
     ]
    }
   ],
   "source": [
    "%%writefile -a submission.py\n",
    "class HungryGeese(object):\n",
    "    def __init__(self,\n",
    "                 rows=7,\n",
    "                 columns=11,\n",
    "                 actions=[Action.NORTH, Action.SOUTH, Action.WEST, Action.EAST],\n",
    "                 hunger_rate=40):\n",
    "        self.rows = rows\n",
    "        self.columns = columns\n",
    "        self.actions = actions\n",
    "        self.hunger_rate = hunger_rate\n",
    "\n",
    "    def getActionSize(self):\n",
    "        return len(self.actions)\n",
    "\n",
    "    def getNextState(self, obs, last_obs, directions):\n",
    "        next_obs = deepcopy(obs)\n",
    "        next_obs.step += 1\n",
    "        geese = next_obs.geese\n",
    "        food = next_obs.food\n",
    "        \n",
    "        for i in range(4):\n",
    "            goose = geese[i]\n",
    "            \n",
    "            if len(goose) == 0: \n",
    "                continue\n",
    "            \n",
    "            head = translate(goose[0], directions[i], self.columns, self.rows)\n",
    "            \n",
    "            # Check action direction\n",
    "            if last_obs is not None and head == last_obs.geese[i][0]:\n",
    "                geese[i] = []\n",
    "                continue\n",
    "\n",
    "            # Consume food or drop a tail piece.\n",
    "            if head in food:\n",
    "                food.remove(head)\n",
    "            else:\n",
    "                goose.pop()\n",
    "            \n",
    "            # Add New Head to the Goose.\n",
    "            goose.insert(0, head)\n",
    "\n",
    "            # If hunger strikes remove from the tail.\n",
    "            if next_obs.step % self.hunger_rate == 0:\n",
    "                if len(goose) > 0:\n",
    "                    goose.pop()\n",
    "\n",
    "        goose_positions = histogram(\n",
    "            position\n",
    "            for goose in geese\n",
    "            for position in goose\n",
    "        )\n",
    "\n",
    "        # Check for collisions.\n",
    "        for i in range(4):\n",
    "            if len(geese[i]) > 0:\n",
    "                head = geese[i][0]\n",
    "                if goose_positions[head] > 1:\n",
    "                    geese[i] = []\n",
    "        \n",
    "        return next_obs\n",
    "\n",
    "    def getValidMoves(self, obs, last_obs, index):   \n",
    "        geese = obs.geese\n",
    "        pos = geese[index][0]\n",
    "        obstacles = {position for goose in geese for position in goose[:-1]}\n",
    "        if last_obs is not None: obstacles.add(last_obs.geese[index][0])\n",
    "        \n",
    "        valid_moves = [\n",
    "            translate(pos, action, self.columns, self.rows) not in obstacles\n",
    "            for action in self.actions\n",
    "        ]\n",
    "    \n",
    "        return valid_moves\n",
    "\n",
    "    def stringRepresentation(self, obs):      \n",
    "        return str(obs.geese + obs.food)"
   ]
  },
  {
   "cell_type": "code",
   "execution_count": 61,
   "id": "73dc32d2",
   "metadata": {
    "execution": {
     "iopub.execute_input": "2021-07-18T09:12:32.826422Z",
     "iopub.status.busy": "2021-07-18T09:12:32.825275Z",
     "iopub.status.idle": "2021-07-18T09:12:32.829430Z",
     "shell.execute_reply": "2021-07-18T09:12:32.829911Z",
     "shell.execute_reply.started": "2021-07-15T19:09:51.176677Z"
    },
    "papermill": {
     "duration": 0.049548,
     "end_time": "2021-07-18T09:12:32.830076",
     "exception": false,
     "start_time": "2021-07-18T09:12:32.780528",
     "status": "completed"
    },
    "tags": []
   },
   "outputs": [
    {
     "name": "stdout",
     "output_type": "stream",
     "text": [
      "Appending to submission.py\n"
     ]
    }
   ],
   "source": [
    "%%writefile -a submission.py\n",
    "# Neural Network for Hungry Geese\n",
    "class TorusConv2d(nn.Module):\n",
    "    def __init__(self, input_dim, output_dim, kernel_size, bn):\n",
    "        super().__init__()\n",
    "        self.edge_size = (kernel_size[0] // 2, kernel_size[1] // 2)\n",
    "        self.conv = nn.Conv2d(input_dim, output_dim, kernel_size=kernel_size)\n",
    "        self.bn = nn.BatchNorm2d(output_dim) if bn else None\n",
    "\n",
    "    def forward(self, x):\n",
    "        h = torch.cat([x[:,:,:,-self.edge_size[1]:], x, x[:,:,:,:self.edge_size[1]]], dim=3)\n",
    "        h = torch.cat([h[:,:,-self.edge_size[0]:], h, h[:,:,:self.edge_size[0]]], dim=2)\n",
    "        h = self.conv(h)\n",
    "        h = self.bn(h) if self.bn is not None else h\n",
    "        return h\n",
    "\n",
    "class GeeseNet(nn.Module):\n",
    "    def __init__(self):\n",
    "        super().__init__()\n",
    "        layers, filters = 12, 32\n",
    "        self.conv0 = TorusConv2d(17, filters, (3, 3), True)\n",
    "        self.blocks = nn.ModuleList([TorusConv2d(filters, filters, (3, 3), True) for _ in range(layers)])\n",
    "        self.head_p = nn.Linear(filters, 4, bias=False)\n",
    "        self.head_v = nn.Linear(filters * 2, 1, bias=False)\n",
    "\n",
    "    def forward_helper(self, x):\n",
    "        h = F.relu_(self.conv0(x))\n",
    "        for block in self.blocks:\n",
    "            h = F.relu_(h + block(h))\n",
    "        h_head = (h * x[:,:1]).view(h.size(0), h.size(1), -1).sum(-1)\n",
    "        h_avg = h.view(h.size(0), h.size(1), -1).mean(-1)\n",
    "        p = torch.softmax(self.head_p(h_head), 1)\n",
    "        v = torch.tanh(self.head_v(torch.cat([h_head, h_avg], 1)))\n",
    "\n",
    "        return p, v\n",
    "    \n",
    "    def forward(self, x): \n",
    "        vertical_idx = torch.LongTensor([i for i in range(x.size(2)-1, -1, -1)])\n",
    "        horisontal_idx = torch.LongTensor([i for i in range(x.size(3)-1, -1, -1)])\n",
    "\n",
    "        x_original = x\n",
    "        x_vertical_flipped = x.index_select(2, vertical_idx)\n",
    "        x_horizontal_flipped = x.index_select(3, horisontal_idx)\n",
    "        x_vert_horiz_flipped = x_vertical_flipped.index_select(3, horisontal_idx)\n",
    "        \n",
    "        x_expanded = torch.cat((x_original, x_vertical_flipped, x_horizontal_flipped, x_vert_horiz_flipped))\n",
    "        \n",
    "        p_expanded, v_expanded = self.forward_helper(x_expanded)\n",
    "        \n",
    "        batch_size = int(x.shape[0])\n",
    "        p_original, v_original = p_expanded[:batch_size], v_expanded[:batch_size]\n",
    "        p_vertical_flipped, v_vertical_flipped = p_expanded[batch_size:2*batch_size], v_expanded[batch_size:2*batch_size]\n",
    "        p_horizontal_flipped, v_horizontal_flipped = p_expanded[2*batch_size:3*batch_size], v_expanded[2*batch_size:3*batch_size]\n",
    "        p_vert_horiz_flipped, v_vert_horiz_flipped = p_expanded[3*batch_size:4*batch_size], v_expanded[3*batch_size:4*batch_size]\n",
    "\n",
    "        # and so on\n",
    "        order_original = [0, 1, 2, 3] #[Action.NORTH, Action.SOUTH, Action.WEST, Action.EAST]\n",
    "        order_vertical_flipped = [1, 0, 2, 3]\n",
    "        order_horizontal_flipped = [0, 1, 3, 2]\n",
    "        order_vert_horiz_flipped = [1, 0, 3, 2]\n",
    "        \n",
    "        v = (v_original + v_vertical_flipped + v_horizontal_flipped + v_vert_horiz_flipped) / 4\n",
    "        p = (p_original + \n",
    "             p_vertical_flipped[:,order_vertical_flipped] + \n",
    "             p_horizontal_flipped[:,order_horizontal_flipped] +\n",
    "             p_vert_horiz_flipped[:,order_vert_horiz_flipped]) / 4\n",
    "        return p, v\n",
    "            \n",
    "        \n",
    "class NNAgent():\n",
    "    def __init__(self, state_dict):\n",
    "        self.model = GeeseNet()\n",
    "        self.model.load_state_dict(state_dict)\n",
    "        self.model.eval()\n",
    "        \n",
    "    def predict(self, obs, last_obs, index):\n",
    "        x = self._make_input(obs, last_obs, index)\n",
    "        with torch.no_grad():\n",
    "            xt = torch.from_numpy(x).unsqueeze(0)\n",
    "            p, v = self.model(xt)\n",
    "            \n",
    "        return p.squeeze(0).detach().numpy(), v.item()\n",
    "        \n",
    "    # Input for Neural Network\n",
    "    def _make_input(self, obs, last_obs, index):\n",
    "        b = np.zeros((17, 7 * 11), dtype=np.float32)\n",
    "        \n",
    "        for p, pos_list in enumerate(obs.geese):\n",
    "            # head position\n",
    "            for pos in pos_list[:1]:\n",
    "                b[0 + (p - index) % 4, pos] = 1\n",
    "            # tip position\n",
    "            for pos in pos_list[-1:]:\n",
    "                b[4 + (p - index) % 4, pos] = 1\n",
    "            # whole position\n",
    "            for pos in pos_list:\n",
    "                b[8 + (p - index) % 4, pos] = 1\n",
    "\n",
    "        # previous head position\n",
    "        if last_obs is not None:\n",
    "            for p, pos_list in enumerate(last_obs.geese):\n",
    "                for pos in pos_list[:1]:\n",
    "                    b[12 + (p - index) % 4, pos] = 1\n",
    "\n",
    "        # food\n",
    "        for pos in obs.food:\n",
    "            b[16, pos] = 1\n",
    "\n",
    "        return b.reshape(-1, 7, 11)"
   ]
  },
  {
   "cell_type": "code",
   "execution_count": 62,
   "id": "900a3eed",
   "metadata": {
    "execution": {
     "iopub.execute_input": "2021-07-18T09:12:32.911698Z",
     "iopub.status.busy": "2021-07-18T09:12:32.910724Z",
     "iopub.status.idle": "2021-07-18T09:12:32.917665Z",
     "shell.execute_reply": "2021-07-18T09:12:32.916774Z",
     "shell.execute_reply.started": "2021-07-15T19:09:51.992665Z"
    },
    "papermill": {
     "duration": 0.048764,
     "end_time": "2021-07-18T09:12:32.917861",
     "exception": false,
     "start_time": "2021-07-18T09:12:32.869097",
     "status": "completed"
    },
    "tags": []
   },
   "outputs": [
    {
     "name": "stdout",
     "output_type": "stream",
     "text": [
      "Appending to submission.py\n"
     ]
    }
   ],
   "source": [
    "%%writefile -a submission.py\n",
    "game = HungryGeese()\n",
    "state_dict = pickle.loads(bz2.decompress(base64.b64decode(PARAM)))\n",
    "agent = NNAgent(state_dict)\n",
    "mcts = MCTS(game, agent)\n",
    "\n",
    "def alphageese_agent(obs, config):\n",
    "    action = game.actions[np.argmax(\n",
    "        mcts.getActionProb(obs, timelimit=config.actTimeout))]\n",
    "    return action.name"
   ]
  },
  {
   "cell_type": "code",
   "execution_count": 63,
   "id": "5ae1b63e",
   "metadata": {
    "execution": {
     "iopub.execute_input": "2021-07-18T09:12:33.002728Z",
     "iopub.status.busy": "2021-07-18T09:12:33.002035Z",
     "iopub.status.idle": "2021-07-18T09:12:33.004290Z",
     "shell.execute_reply": "2021-07-18T09:12:33.004774Z",
     "shell.execute_reply.started": "2021-07-15T19:09:53.212661Z"
    },
    "papermill": {
     "duration": 0.046492,
     "end_time": "2021-07-18T09:12:33.004956",
     "exception": false,
     "start_time": "2021-07-18T09:12:32.958464",
     "status": "completed"
    },
    "tags": []
   },
   "outputs": [],
   "source": [
    "#from kaggle_environments import make\n",
    "#env = make(\"hungry_geese\", debug=True)\n",
    "#env.reset()\n",
    "#env.run(['submission.py', 'submission.py', 'submission.py', 'submission.py'])\n",
    "#env.render(mode=\"ipython\", width=700, height=600)"
   ]
  },
  {
   "cell_type": "code",
   "execution_count": null,
   "id": "faf6f4a6",
   "metadata": {},
   "outputs": [],
   "source": []
  },
  {
   "cell_type": "code",
   "execution_count": 64,
   "id": "46792f4d",
   "metadata": {},
   "outputs": [],
   "source": [
    "import pickle\n",
    "import bz2\n",
    "import base64\n",
    "import numpy as np\n",
    "import torch\n",
    "import torch.nn as nn\n",
    "import torch.nn.functional as F\n",
    "\n",
    "model_path = 'models/288.pth'\n",
    "\n",
    "weights = torch.load(model_path)\n",
    "\n",
    "PARAM = base64.b64encode(bz2.compress(pickle.dumps(weights)))\n",
    "state_dict = pickle.loads(bz2.decompress(base64.b64decode(PARAM)))\n",
    "\n",
    "# Read in the submission file\n",
    "with open('submission.py',) as file :\n",
    "    filedata = file.read()\n",
    "\n",
    "# Replace the target string\n",
    "filedata = filedata.replace('XXXXXXXXXX', PARAM.decode(\"utf-8\") )\n",
    "\n",
    "# Write the file out again\n",
    "with open('submission.py','w') as file:\n",
    "    file.write(filedata)"
   ]
  },
  {
   "cell_type": "code",
   "execution_count": null,
   "id": "19823002",
   "metadata": {},
   "outputs": [],
   "source": []
  }
 ],
 "metadata": {
  "kernelspec": {
   "display_name": "Python 3 (ipykernel)",
   "language": "python",
   "name": "python3"
  },
  "language_info": {
   "codemirror_mode": {
    "name": "ipython",
    "version": 3
   },
   "file_extension": ".py",
   "mimetype": "text/x-python",
   "name": "python",
   "nbconvert_exporter": "python",
   "pygments_lexer": "ipython3",
   "version": "3.7.3"
  },
  "papermill": {
   "default_parameters": {},
   "duration": 8.859605,
   "end_time": "2021-07-18T09:12:34.692278",
   "environment_variables": {},
   "exception": null,
   "input_path": "__notebook__.ipynb",
   "output_path": "__notebook__.ipynb",
   "parameters": {},
   "start_time": "2021-07-18T09:12:25.832673",
   "version": "2.3.2"
  }
 },
 "nbformat": 4,
 "nbformat_minor": 5
}
